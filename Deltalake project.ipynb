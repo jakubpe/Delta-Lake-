{
 "cells": [
  {
   "cell_type": "code",
   "execution_count": 1,
   "id": "d5e6ccc9-c53b-4f71-a069-87bf0c1d03ea",
   "metadata": {},
   "outputs": [
    {
     "name": "stdout",
     "output_type": "stream",
     "text": [
      "Collecting delta-spark\n",
      "  Downloading delta_spark-3.0.0-py3-none-any.whl.metadata (2.0 kB)\n",
      "Requirement already satisfied: pyspark<3.6.0,>=3.5.0 in /usr/local/spark/python (from delta-spark) (3.5.0)\n",
      "Requirement already satisfied: importlib-metadata>=1.0.0 in /opt/conda/lib/python3.11/site-packages (from delta-spark) (6.8.0)\n",
      "Requirement already satisfied: zipp>=0.5 in /opt/conda/lib/python3.11/site-packages (from importlib-metadata>=1.0.0->delta-spark) (3.17.0)\n",
      "Collecting py4j==0.10.9.7 (from pyspark<3.6.0,>=3.5.0->delta-spark)\n",
      "  Downloading py4j-0.10.9.7-py2.py3-none-any.whl (200 kB)\n",
      "\u001b[2K     \u001b[90m━━━━━━━━━━━━━━━━━━━━━━━━━━━━━━━━━━━━━━━\u001b[0m \u001b[32m200.5/200.5 kB\u001b[0m \u001b[31m3.1 MB/s\u001b[0m eta \u001b[36m0:00:00\u001b[0ma \u001b[36m0:00:01\u001b[0m\n",
      "\u001b[?25hDownloading delta_spark-3.0.0-py3-none-any.whl (21 kB)\n",
      "Installing collected packages: py4j, delta-spark\n",
      "Successfully installed delta-spark-3.0.0 py4j-0.10.9.7\n"
     ]
    }
   ],
   "source": [
    "!pip install delta-spark"
   ]
  },
  {
   "cell_type": "code",
   "execution_count": 1,
   "id": "e77f8f6a-619b-4949-a91e-ebe01ea96cab",
   "metadata": {},
   "outputs": [],
   "source": [
    "from pyspark.conf import SparkConf\n",
    "from pyspark.context import SparkContext\n",
    "from pyspark.sql import SparkSession\n",
    "import random \n",
    "from random import randint\n",
    "from pyspark.sql import functions as f\n",
    "from pyspark.sql.types import StringType\n",
    "from delta.tables import DeltaTable"
   ]
  },
  {
   "cell_type": "markdown",
   "id": "9e3ce0b5-b63a-4ee7-9427-ff8a37a7c8ce",
   "metadata": {},
   "source": []
  },
  {
   "cell_type": "code",
   "execution_count": 2,
   "id": "4177825f-495a-4ae4-a8e5-2f4bfe359b99",
   "metadata": {},
   "outputs": [],
   "source": [
    "spark_conf = (\n",
    "    SparkConf()\n",
    "        .set(\"spark.jars.packages\", 'org.apache.hadoop:hadoop-client:3.3.4,org.apache.hadoop:hadoop-aws:3.3.4,io.delta:delta-spark_2.12:3.0.0')\n",
    "        .set(\"spark.driver.memory\", \"6g\")\n",
    "        .set(\"spark.hadoop.fs.s3a.endpoint\", \"minio:9000\")\n",
    "        .set(\"spark.hadoop.fs.s3a.access.key\", \"pPZWyzFK4auwPEHCrmuw\")\n",
    "        .set(\"spark.hadoop.fs.s3a.secret.key\", \"M8i0y8Ef9jDntigOXfTXhnqoCpZ5v7NVHwC7NhRd\")\n",
    "        .set(\"spark.hadoop.fs.s3a.path.style.access\", \"true\")\n",
    "        .set(\"spark.hadoop.fs.s3a.impl\", \"org.apache.hadoop.fs.s3a.S3AFileSystem\")\n",
    "        .set('spark.hadoop.fs.s3a.aws.credentials.provider', 'org.apache.hadoop.fs.s3a.SimpleAWSCredentialsProvider')\n",
    "        .set(\"spark.hadoop.fs.s3a.connection.ssl.enabled\", \"false\")\n",
    "\n",
    "        .set(\"spark.sql.extensions\", \"io.delta.sql.DeltaSparkSessionExtension\") \n",
    "        .set(\"spark.sql.catalog.spark_catalog\", \"org.apache.spark.sql.delta.catalog.DeltaCatalog\")\n",
    "    )\n",
    "\n",
    "sc = SparkContext.getOrCreate(spark_conf)\n",
    "spark = SparkSession(sc)"
   ]
  },
  {
   "cell_type": "code",
   "execution_count": 4,
   "id": "9ec5bede-8d09-4a8b-ae16-f0510298d7b5",
   "metadata": {},
   "outputs": [
    {
     "name": "stdout",
     "output_type": "stream",
     "text": [
      "Hadoop version = 3.3.4\n",
      "Spark version = 3.5.0\n"
     ]
    }
   ],
   "source": [
    "print(f\"Hadoop version = {spark._jvm.org.apache.hadoop.util.VersionInfo.getVersion()}\")\n",
    "print(f\"Spark version = {spark.version}\")"
   ]
  },
  {
   "cell_type": "markdown",
   "id": "286e8bdf-92f2-4d62-9161-dd110c6a840d",
   "metadata": {},
   "source": [
    "### Data generation \\\\\\\n",
    "\n",
    "On the bronze level, generate three tables per day sails of some product. The sale consists of 3 columns: user, product, and time. Generate table for product: name and price. Generate table for user: name and location. In total bronze level will consist of 5 tables: sale_day_1, sale_day_2, sale_day_3, users, and products. \n"
   ]
  },
  {
   "cell_type": "code",
   "execution_count": 7,
   "id": "a2d7294d-9a89-4f32-acaf-e820eab8870e",
   "metadata": {},
   "outputs": [],
   "source": [
    "import datetime\n",
    "\n",
    "product = []  #product, price \n",
    "total_sales = []  #user_id, product, volume, amount, date\n",
    "users = [] #user_id, location\n",
    "\n",
    "for _ in range(50):\n",
    "    product_name = f'product_{_}'\n",
    "    product_price = random.randint(2, 50)\n",
    "    product.append((product_name, product_price))\n",
    "\n",
    "for _ in range(1000):\n",
    "    user_id = _\n",
    "    user_localization = f'localization_{random.randint(100,200)}'\n",
    "    users.append((user_id, user_localization))\n",
    "    \n",
    "for _ in range(1, 4):\n",
    "    sales = []\n",
    "    date = datetime.datetime(2018, 6, _).strftime(\"%x\")\n",
    "    for i in range(random.randint(50_000, 100_000)):\n",
    "        buy = random.choice(product)\n",
    "        volume = random.randint(1,5)\n",
    "        sales.append(\n",
    "            (random.choice(users)[0],\n",
    "             buy[0],\n",
    "             volume,\n",
    "             volume*buy[1],\n",
    "             date\n",
    "                        )\n",
    "               )\n",
    "    total_sales.append(sales)\n",
    "    "
   ]
  },
  {
   "cell_type": "code",
   "execution_count": 8,
   "id": "d3f8be57-3193-4400-bf78-cc590a4a65a9",
   "metadata": {},
   "outputs": [],
   "source": [
    "users_df = spark.createDataFrame(users, ['user_id', 'localization'])\n",
    "product_df = spark.createDataFrame(product, ['product_name', 'price'])\n",
    "sales_one_df = spark.createDataFrame(total_sales[0], ['user_id', 'product_name', 'volume', 'amount', 'date'])\n",
    "sales_two_df = spark.createDataFrame(total_sales[1], ['user_id', 'product_name', 'volume', 'amount', 'date'])\n",
    "sales_three_df = spark.createDataFrame(total_sales[2], ['user_id', 'product_name', 'volume', 'amount', 'date'])"
   ]
  },
  {
   "cell_type": "code",
   "execution_count": 9,
   "id": "7db4151b-5e00-470f-b36b-15e63e11bff8",
   "metadata": {},
   "outputs": [
    {
     "name": "stdout",
     "output_type": "stream",
     "text": [
      "+-------+------------+------+------+--------+\n",
      "|user_id|product_name|volume|amount|    date|\n",
      "+-------+------------+------+------+--------+\n",
      "|    599|  product_11|     4|    12|06/01/18|\n",
      "|    328|  product_42|     4|   184|06/01/18|\n",
      "|    471|   product_6|     1|    29|06/01/18|\n",
      "|    224|  product_37|     1|    32|06/01/18|\n",
      "|    157|   product_1|     3|    84|06/01/18|\n",
      "|    891|  product_32|     5|    15|06/01/18|\n",
      "|    464|   product_6|     3|    87|06/01/18|\n",
      "|    105|  product_33|     1|    31|06/01/18|\n",
      "|    970|  product_35|     2|    78|06/01/18|\n",
      "|     37|  product_21|     5|    45|06/01/18|\n",
      "|    911|  product_18|     1|    34|06/01/18|\n",
      "|    172|  product_42|     1|    46|06/01/18|\n",
      "|    603|  product_30|     4|    96|06/01/18|\n",
      "|    979|  product_25|     4|    84|06/01/18|\n",
      "|    590|  product_20|     2|    96|06/01/18|\n",
      "|     12|  product_23|     4|    20|06/01/18|\n",
      "|    163|  product_43|     3|    24|06/01/18|\n",
      "|     27|  product_48|     5|    75|06/01/18|\n",
      "|    108|  product_29|     5|   190|06/01/18|\n",
      "|    870|  product_25|     3|    63|06/01/18|\n",
      "+-------+------------+------+------+--------+\n",
      "only showing top 20 rows\n",
      "\n"
     ]
    }
   ],
   "source": [
    "sales_one_df.show()"
   ]
  },
  {
   "cell_type": "code",
   "execution_count": 10,
   "id": "a4851360-bcd7-4dd8-8404-9907dfe12c27",
   "metadata": {},
   "outputs": [],
   "source": [
    "users_df.write.format('delta').mode('overwrite').save('s3a://delta-bucket/users')\n",
    "product_df.write.format('delta').mode('overwrite').save('s3a://delta-bucket/products')\n",
    "sales_one_df.write.format('delta').mode('overwrite').save('s3a://delta-bucket/day-one')\n",
    "sales_two_df.write.format('delta').mode('overwrite').save('s3a://delta-bucket/day-two')\n",
    "sales_three_df.write.format('delta').mode('overwrite').save('s3a://delta-bucket/day-three')"
   ]
  },
  {
   "cell_type": "code",
   "execution_count": 29,
   "id": "a9b22a53-75af-4622-9796-4f0f4445eaf1",
   "metadata": {},
   "outputs": [],
   "source": [
    "users_df = spark.read.format('delta').load('s3a://delta-bucket/users')\n",
    "product_df = spark.read.format('delta').load('s3a://delta-bucket/products')\n",
    "sales_one_df = spark.read.format('delta').load('s3a://delta-bucket/day-one')\n",
    "sales_two_df = spark.read.format('delta').load('s3a://delta-bucket/day-two')\n",
    "sales_three_df = spark.read.format('delta').load('s3a://delta-bucket/day-three')"
   ]
  },
  {
   "cell_type": "code",
   "execution_count": 4,
   "id": "65c942d5-6e0b-474b-abe6-d2ed48619bd1",
   "metadata": {},
   "outputs": [
    {
     "name": "stdout",
     "output_type": "stream",
     "text": [
      "root\n",
      " |-- product_name: string (nullable = true)\n",
      " |-- price: long (nullable = true)\n",
      "\n"
     ]
    },
    {
     "data": {
      "text/plain": [
       "80397"
      ]
     },
     "execution_count": 4,
     "metadata": {},
     "output_type": "execute_result"
    }
   ],
   "source": [
    "product_df.printSchema()\n",
    "sales_one_df.count()"
   ]
  },
  {
   "cell_type": "code",
   "execution_count": 30,
   "id": "5885e560-6403-4d52-8aca-721e27e0e838",
   "metadata": {},
   "outputs": [],
   "source": [
    "sales_one_df.createOrReplaceTempView('one')\n",
    "sales_two_df.createOrReplaceTempView('two')\n",
    "sales_three_df.createOrReplaceTempView('three')"
   ]
  },
  {
   "cell_type": "code",
   "execution_count": 31,
   "id": "4e0619bb-fbc2-4e99-9be5-a71c80b87bf1",
   "metadata": {},
   "outputs": [],
   "source": [
    "total_sales_df = spark.sql(\"\"\"\n",
    "(SELECT * FROM one) UNION ALL (SELECT * FROM two) UNION ALL (SELECT * FROM three)\n",
    "\"\"\")"
   ]
  },
  {
   "cell_type": "code",
   "execution_count": 31,
   "id": "43e94199-8045-4ec6-8ec2-e1f08c181bfa",
   "metadata": {},
   "outputs": [],
   "source": [
    "total_sales_df.write.format('delta').mode('overwrite').save('s3a://delta-bucket/total-sales')"
   ]
  },
  {
   "cell_type": "code",
   "execution_count": 3,
   "id": "0db79bdd-d35d-4460-aca9-a05f7247f7f4",
   "metadata": {},
   "outputs": [],
   "source": [
    "total_sales_df = spark.read.format('delta').load('s3a://delta-bucket/total-sales')"
   ]
  },
  {
   "cell_type": "code",
   "execution_count": 6,
   "id": "7bfe858d-a3cd-4685-ad4f-070b5bb34933",
   "metadata": {},
   "outputs": [],
   "source": [
    "joined_df = total_sales_df.join(users_df, 'user_id', 'left').join(product_df, 'product_name', 'left')"
   ]
  },
  {
   "cell_type": "code",
   "execution_count": 7,
   "id": "109ce0a3-3ec0-492b-bbbd-f4c976ab6261",
   "metadata": {},
   "outputs": [],
   "source": [
    "joined_df.count()"
   ]
  },
  {
   "cell_type": "code",
   "execution_count": 35,
   "id": "e500da8c-e432-478d-b01d-d973a6668e6b",
   "metadata": {},
   "outputs": [
    {
     "name": "stdout",
     "output_type": "stream",
     "text": [
      "+------------+-------+------+------+--------+----------------+-----+\n",
      "|product_name|user_id|volume|amount|    date|    localization|price|\n",
      "+------------+-------+------+------+--------+----------------+-----+\n",
      "|   product_4|     50|     2|    68|06/01/18|localization_146|   34|\n",
      "|  product_27|     72|     3|    21|06/01/18|localization_163|    7|\n",
      "|  product_23|    420|     5|    25|06/01/18|localization_112|    5|\n",
      "|  product_27|    524|     2|    14|06/01/18|localization_134|    7|\n",
      "|  product_39|    698|     4|    44|06/01/18|localization_140|   11|\n",
      "|  product_22|     98|     3|   120|06/01/18|localization_177|   40|\n",
      "|  product_28|    431|     4|   156|06/01/18|localization_133|   39|\n",
      "|  product_21|    848|     3|    27|06/01/18|localization_180|    9|\n",
      "|  product_24|    675|     4|   112|06/01/18|localization_181|   28|\n",
      "|  product_49|    115|     5|   105|06/01/18|localization_118|   21|\n",
      "|  product_43|    154|     3|    24|06/01/18|localization_142|    8|\n",
      "|  product_24|    404|     1|    28|06/01/18|localization_122|   28|\n",
      "|  product_48|    831|     3|    45|06/01/18|localization_132|   15|\n",
      "|  product_17|    779|     5|   205|06/01/18|localization_138|   41|\n",
      "|  product_25|    432|     4|    84|06/01/18|localization_122|   21|\n",
      "|   product_1|    874|     3|    84|06/01/18|localization_186|   28|\n",
      "|   product_3|     38|     4|   112|06/01/18|localization_186|   28|\n",
      "|  product_39|    308|     1|    11|06/01/18|localization_190|   11|\n",
      "|  product_32|     38|     3|     9|06/01/18|localization_186|    3|\n",
      "|  product_39|    953|     5|    55|06/01/18|localization_155|   11|\n",
      "+------------+-------+------+------+--------+----------------+-----+\n",
      "only showing top 20 rows\n",
      "\n"
     ]
    }
   ],
   "source": [
    "joined_df.show()"
   ]
  },
  {
   "cell_type": "code",
   "execution_count": 36,
   "id": "6ff51af6-88f4-4ad2-bb4e-09112dcf2226",
   "metadata": {},
   "outputs": [],
   "source": [
    "joined_df.write.format('delta').mode('overwrite').save('s3a://delta-bucket/data-joined')"
   ]
  },
  {
   "cell_type": "code",
   "execution_count": 8,
   "id": "c6e5d730-bab5-434b-a527-8beb8b527a39",
   "metadata": {},
   "outputs": [],
   "source": [
    "joined_df = spark.read.format('delta').load('s3a://delta-bucket/data-joined')"
   ]
  },
  {
   "cell_type": "code",
   "execution_count": 7,
   "id": "79570f18-e347-4eb4-bdf1-311892e00214",
   "metadata": {},
   "outputs": [
    {
     "name": "stdout",
     "output_type": "stream",
     "text": [
      "+------------+-------+------+------+--------+----------------+-----+\n",
      "|product_name|user_id|volume|amount|    date|    localization|price|\n",
      "+------------+-------+------+------+--------+----------------+-----+\n",
      "|  product_21|    422|     2|    18|06/03/18|localization_172|    9|\n",
      "|  product_24|    943|     4|   112|06/03/18|localization_125|   28|\n",
      "|  product_45|     91|     3|   147|06/03/18|localization_145|   49|\n",
      "|  product_30|    296|     4|    96|06/03/18|localization_119|   24|\n",
      "|  product_47|    150|     5|   190|06/03/18|localization_179|   38|\n",
      "|   product_8|    165|     1|    33|06/03/18|localization_195|   33|\n",
      "|  product_26|    952|     3|    51|06/03/18|localization_122|   17|\n",
      "|  product_23|    926|     4|    20|06/03/18|localization_129|    5|\n",
      "|  product_26|    549|     3|    51|06/03/18|localization_128|   17|\n",
      "|   product_3|    822|     2|    56|06/03/18|localization_121|   28|\n",
      "|  product_20|    226|     3|   144|06/03/18|localization_128|   48|\n",
      "|   product_2|    746|     5|    25|06/03/18|localization_157|    5|\n",
      "|  product_42|    267|     1|    46|06/03/18|localization_111|   46|\n",
      "|  product_34|    793|     2|    30|06/03/18|localization_142|   15|\n",
      "|   product_8|    405|     2|    66|06/03/18|localization_132|   33|\n",
      "|  product_43|    831|     3|    24|06/03/18|localization_132|    8|\n",
      "|  product_39|    985|     4|    44|06/03/18|localization_141|   11|\n",
      "|  product_33|    511|     3|    93|06/03/18|localization_164|   31|\n",
      "|  product_43|      2|     1|     8|06/03/18|localization_132|    8|\n",
      "|  product_27|    933|     5|    35|06/03/18|localization_196|    7|\n",
      "+------------+-------+------+------+--------+----------------+-----+\n",
      "only showing top 20 rows\n",
      "\n"
     ]
    }
   ],
   "source": [
    "joined_df.show()"
   ]
  },
  {
   "cell_type": "code",
   "execution_count": 9,
   "id": "64011f4e-f934-4b37-9f56-9ec7cfa7257c",
   "metadata": {},
   "outputs": [],
   "source": [
    "joined_df.createOrReplaceTempView('widetable')"
   ]
  },
  {
   "cell_type": "code",
   "execution_count": 10,
   "id": "a5e1b66a-2379-4d76-9886-fd55b582b0e2",
   "metadata": {},
   "outputs": [],
   "source": [
    "sales_per_location = spark.sql(\"\"\"\n",
    "SELECT localization, SUM(amount) AS total_sales FROM widetable GROUP BY localization ORDER BY SUM(amount) DESC\n",
    "\"\"\")"
   ]
  },
  {
   "cell_type": "code",
   "execution_count": 12,
   "id": "491720bc-06fc-4724-98d7-56742ade4327",
   "metadata": {},
   "outputs": [],
   "source": [
    "sales_per_location.write.format('delta').mode('overwrite').save('s3a://delta-bucket/sales-per-location')"
   ]
  },
  {
   "cell_type": "code",
   "execution_count": 11,
   "id": "6f9547c6-6275-4b15-a80a-ce97b9b2bf52",
   "metadata": {},
   "outputs": [
    {
     "name": "stdout",
     "output_type": "stream",
     "text": [
      "+----------------+-----------+\n",
      "|    localization|total_sales|\n",
      "+----------------+-----------+\n",
      "|localization_176|     325989|\n",
      "|localization_140|     299326|\n",
      "|localization_105|     287470|\n",
      "|localization_164|     283557|\n",
      "|localization_179|     279763|\n",
      "|localization_178|     275498|\n",
      "|localization_145|     274521|\n",
      "|localization_146|     266097|\n",
      "|localization_128|     264532|\n",
      "|localization_129|     257876|\n",
      "|localization_187|     253153|\n",
      "|localization_200|     243427|\n",
      "|localization_141|     233982|\n",
      "|localization_112|     231792|\n",
      "|localization_101|     225195|\n",
      "|localization_192|     224865|\n",
      "|localization_137|     222422|\n",
      "|localization_170|     216669|\n",
      "|localization_121|     207641|\n",
      "|localization_120|     205086|\n",
      "+----------------+-----------+\n",
      "only showing top 20 rows\n",
      "\n"
     ]
    }
   ],
   "source": [
    "sales_per_location.show()"
   ]
  },
  {
   "cell_type": "code",
   "execution_count": 14,
   "id": "16ef7793-eeb5-42f5-a063-23fa21d88613",
   "metadata": {},
   "outputs": [],
   "source": [
    "sales_per_day = spark.sql(\"\"\"\n",
    "SELECT date, SUM(amount) AS total_sales FROM widetable GROUP BY date ORDER BY SUM(amount) DESC\n",
    "\"\"\")\n",
    "sales_per_day.write.format('delta').mode('overwrite').save('s3a://delta-bucket/sales-per-day')"
   ]
  },
  {
   "cell_type": "code",
   "execution_count": 12,
   "id": "f5b06a58-c71f-484f-935a-cf50b8aa6d05",
   "metadata": {},
   "outputs": [
    {
     "name": "stdout",
     "output_type": "stream",
     "text": [
      "+--------+-----------+\n",
      "|    date|total_sales|\n",
      "+--------+-----------+\n",
      "|06/01/18|    6232967|\n",
      "|06/02/18|    5588355|\n",
      "|06/03/18|    5504737|\n",
      "+--------+-----------+\n",
      "\n"
     ]
    }
   ],
   "source": [
    "sales_per_day.show()"
   ]
  },
  {
   "cell_type": "code",
   "execution_count": 21,
   "id": "44a914d5-9ce0-463f-aa9a-14dea1370ef7",
   "metadata": {},
   "outputs": [],
   "source": [
    "sales_per_product = spark.sql(\"\"\"\n",
    "SELECT product_name, price, SUM(amount)\n",
    "FROM widetable\n",
    "GROUP BY product_name, price\n",
    "ORDER BY SUM(amount) DESC\n",
    "\"\"\")\n"
   ]
  },
  {
   "cell_type": "code",
   "execution_count": 20,
   "id": "7dc297d5-123f-4f37-8792-51d32c04447f",
   "metadata": {},
   "outputs": [],
   "source": [
    "sales_per_product.write.format('delta').mode('overwrite').save('s3a://delta-bucket/sales-per-product')"
   ]
  },
  {
   "cell_type": "code",
   "execution_count": 23,
   "id": "c50c499f-3f81-4c63-9076-0a7532260984",
   "metadata": {},
   "outputs": [
    {
     "name": "stdout",
     "output_type": "stream",
     "text": [
      "+------------+-----+-----------+\n",
      "|product_name|price|sum(amount)|\n",
      "+------------+-----+-----------+\n",
      "|  product_45|   49|     675171|\n",
      "|  product_20|   48|     643680|\n",
      "|  product_42|   46|     626980|\n",
      "|  product_38|   46|     604716|\n",
      "|   product_5|   43|     575297|\n",
      "|  product_31|   42|     560280|\n",
      "|  product_40|   41|     548867|\n",
      "|  product_22|   40|     546600|\n",
      "|  product_17|   41|     541159|\n",
      "|  product_14|   39|     534495|\n",
      "|  product_35|   39|     533208|\n",
      "|  product_28|   39|     520806|\n",
      "|  product_46|   38|     509314|\n",
      "|  product_47|   38|     508326|\n",
      "|  product_29|   38|     504488|\n",
      "|  product_10|   36|     476568|\n",
      "|  product_18|   34|     449514|\n",
      "|   product_4|   34|     449106|\n",
      "|   product_8|   33|     432432|\n",
      "|  product_33|   31|     423181|\n",
      "+------------+-----+-----------+\n",
      "only showing top 20 rows\n",
      "\n"
     ]
    }
   ],
   "source": [
    "sales_per_product.show()"
   ]
  },
  {
   "cell_type": "code",
   "execution_count": 24,
   "id": "d671817a-618d-4690-9414-b30b1b653c47",
   "metadata": {},
   "outputs": [],
   "source": [
    "users_delta_table = DeltaTable.forPath(spark, 's3a://delta-bucket/users')\n"
   ]
  },
  {
   "cell_type": "code",
   "execution_count": 26,
   "id": "bd869956-2d06-4f57-9346-a4af02c3b012",
   "metadata": {},
   "outputs": [
    {
     "name": "stdout",
     "output_type": "stream",
     "text": [
      "+-------+----------------+\n",
      "|user_id|    localization|\n",
      "+-------+----------------+\n",
      "|     27|        Warszawa|\n",
      "|      1|        Warszawa|\n",
      "|     14|        Warszawa|\n",
      "|     29|localization_186|\n",
      "|      3|localization_152|\n",
      "|     16|localization_118|\n",
      "|     28|          Berlin|\n",
      "|      2|          Berlin|\n",
      "|     15|          Berlin|\n",
      "|      4|localization_178|\n",
      "+-------+----------------+\n",
      "\n"
     ]
    }
   ],
   "source": [
    "updated_data = [(1, 'Warszawa'), (2, 'Berlin')]\n",
    "updated_df = spark.createDataFrame(updated_data, ['user_id', 'new_localization'])\n",
    "\n",
    "users_delta_table.alias(\"t\").merge(\n",
    "    updated_df.alias(\"s\"),\n",
    "    \"t.user_id % 13 = s.user_id\"\n",
    ").whenMatchedUpdate(\n",
    "    set={\"localization\": \"s.new_localization\"}\n",
    ").execute()\n",
    "\n",
    "\n",
    "users_delta_table.toDF().filter(f.col('user_id').isin([1,2,3,4,14,15,16,27,28,29])).show()"
   ]
  },
  {
   "cell_type": "code",
   "execution_count": 28,
   "id": "482be3ba-7e3b-442f-b73f-0522803e0c75",
   "metadata": {},
   "outputs": [],
   "source": [
    "users_delta_table.toDF().write.format('delta').mode('overwrite').save('s3a://delta-bucket/updated-users')"
   ]
  },
  {
   "cell_type": "code",
   "execution_count": 32,
   "id": "0e7f1ab2-5c64-4e35-be27-d88bf247a5cf",
   "metadata": {},
   "outputs": [],
   "source": [
    "joined_df_updated = total_sales_df.join(users_delta_table.toDF(), 'user_id', 'left').join(product_df, 'product_name', 'left')"
   ]
  },
  {
   "cell_type": "code",
   "execution_count": 34,
   "id": "8152d88c-cd01-4626-a809-5ef2d38b0bf9",
   "metadata": {},
   "outputs": [],
   "source": [
    "joined_df_updated.createOrReplaceTempView('widetableudated')"
   ]
  },
  {
   "cell_type": "code",
   "execution_count": 37,
   "id": "f19a8af9-e5ed-44c3-b6b9-c473f1896045",
   "metadata": {},
   "outputs": [],
   "source": [
    "sales_per_location = spark.sql(\"\"\"\n",
    "SELECT localization, SUM(amount) AS total_sales FROM widetableudated WHERE localization = 'Berlin' OR localization = 'Warszawa' GROUP BY localization ORDER BY SUM(amount) DESC\n",
    "\"\"\")"
   ]
  },
  {
   "cell_type": "code",
   "execution_count": 38,
   "id": "cbfc128b-c2eb-42cc-ad53-20c5e4f1a5c1",
   "metadata": {},
   "outputs": [
    {
     "name": "stdout",
     "output_type": "stream",
     "text": [
      "+------------+-----------+\n",
      "|localization|total_sales|\n",
      "+------------+-----------+\n",
      "|    Warszawa|    1338182|\n",
      "|      Berlin|    1325923|\n",
      "+------------+-----------+\n",
      "\n"
     ]
    }
   ],
   "source": [
    "sales_per_location.show()"
   ]
  },
  {
   "cell_type": "code",
   "execution_count": null,
   "id": "351a84b1-7cb3-4954-97b1-d726b605e79d",
   "metadata": {},
   "outputs": [],
   "source": [
    "sales_in_Warsaw_Berlin.write.format('delta').mode('overwrite').save('s3a://delta-bucket/sales-per-product')"
   ]
  }
 ],
 "metadata": {
  "kernelspec": {
   "display_name": "Python 3 (ipykernel)",
   "language": "python",
   "name": "python3"
  },
  "language_info": {
   "codemirror_mode": {
    "name": "ipython",
    "version": 3
   },
   "file_extension": ".py",
   "mimetype": "text/x-python",
   "name": "python",
   "nbconvert_exporter": "python",
   "pygments_lexer": "ipython3",
   "version": "3.11.6"
  }
 },
 "nbformat": 4,
 "nbformat_minor": 5
}
